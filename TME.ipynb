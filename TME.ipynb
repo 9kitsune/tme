{
  "nbformat": 4,
  "nbformat_minor": 0,
  "metadata": {
    "colab": {
      "name": "TME.ipynb",
      "version": "0.3.2",
      "provenance": [],
      "collapsed_sections": [],
      "include_colab_link": true
    },
    "kernelspec": {
      "name": "python3",
      "display_name": "Python 3"
    }
  },
  "cells": [
    {
      "cell_type": "markdown",
      "metadata": {
        "id": "view-in-github",
        "colab_type": "text"
      },
      "source": [
        "[View in Colaboratory](https://colab.research.google.com/github/9kitsune/tme/blob/master/TME.ipynb)"
      ]
    },
    {
      "metadata": {
        "id": "A7FJPfrCvpd9",
        "colab_type": "text"
      },
      "cell_type": "markdown",
      "source": [
        "##Roadmap\n",
        "- investigate ways to take in external data source in json format\n",
        "> - historic data sources\n",
        ">> - webtris\n",
        ">> - NTIS\n",
        "> - real time data sources\n",
        ">> - primary - MIDAS Gold, every minute data\n",
        ">> - secondary - TMU Traffic data, every 5 minutes data\n",
        ">> - Tertiary - floating vehicle data available in a per link basis\n",
        "- investigate ways to process data with python and associated data science modules\n",
        "- investigate ways to present such data in graphical forms\n",
        "- investigates IFTTT method in initiate reaction\n",
        "- investigate ways to predict where the key difference will occur between historic data sources and the real time ones."
      ]
    },
    {
      "metadata": {
        "id": "3Av9xLcENcur",
        "colab_type": "code",
        "colab": {
          "base_uri": "https://localhost:8080/",
          "height": 80
        },
        "outputId": "3c498441-6521-4ba2-9440-88c944d42560"
      },
      "cell_type": "code",
      "source": [
        "import os\n",
        "import json\n",
        "import urllib.request\n",
        "import numpy as np\n",
        "import pandas as pd\n",
        "from pandas.io.json import json_normalize\n",
        "import matplotlib.pyplot as plt\n",
        "\n",
        "request=urllib.request.Request('http://webtris.highwaysengland.co.uk/api/v1.0/sites')\n",
        "response = urllib.request.urlopen(request)\n",
        "\n",
        "sites = response.read()\n",
        "data = json.loads(sites)\n",
        "d = json_normalize(data['sites'])\n",
        "\n",
        "df = pd.DataFrame(data=d)  \n",
        "\n",
        "# df['desc_split'] = df['Description'].str.split('/')\n",
        "\n",
        "df['road'], df['geo'] = df['Description'].str.split('/', 1).str\n",
        "\n",
        "# df.columns\n",
        "\n",
        "df[(df.road == 'M1') & (df.geo == '2413B')]\n",
        "\n",
        "# df.head()\n",
        "\n",
        "# df = df.set_index(['road','geo'])\n",
        "\n",
        "# df[df.Status == 'Active']\n",
        "\n",
        "# df.loc[:,['road', 'geo', 'id']]\n"
      ],
      "execution_count": 37,
      "outputs": [
        {
          "output_type": "execute_result",
          "data": {
            "text/html": [
              "<div>\n",
              "<style scoped>\n",
              "    .dataframe tbody tr th:only-of-type {\n",
              "        vertical-align: middle;\n",
              "    }\n",
              "\n",
              "    .dataframe tbody tr th {\n",
              "        vertical-align: top;\n",
              "    }\n",
              "\n",
              "    .dataframe thead th {\n",
              "        text-align: right;\n",
              "    }\n",
              "</style>\n",
              "<table border=\"1\" class=\"dataframe\">\n",
              "  <thead>\n",
              "    <tr style=\"text-align: right;\">\n",
              "      <th></th>\n",
              "      <th>Description</th>\n",
              "      <th>Id</th>\n",
              "      <th>Latitude</th>\n",
              "      <th>Longitude</th>\n",
              "      <th>Name</th>\n",
              "      <th>Status</th>\n",
              "      <th>road</th>\n",
              "      <th>geo</th>\n",
              "    </tr>\n",
              "  </thead>\n",
              "  <tbody>\n",
              "    <tr>\n",
              "      <th>16</th>\n",
              "      <td>M1/2413B</td>\n",
              "      <td>17</td>\n",
              "      <td>51.785326</td>\n",
              "      <td>-0.410737</td>\n",
              "      <td>MIDAS site at M1/2413B priority 0 on link 1080...</td>\n",
              "      <td>Active</td>\n",
              "      <td>M1</td>\n",
              "      <td>2413B</td>\n",
              "    </tr>\n",
              "  </tbody>\n",
              "</table>\n",
              "</div>"
            ],
            "text/plain": [
              "   Description  Id   Latitude  Longitude  \\\n",
              "16    M1/2413B  17  51.785326  -0.410737   \n",
              "\n",
              "                                                 Name  Status road    geo  \n",
              "16  MIDAS site at M1/2413B priority 0 on link 1080...  Active   M1  2413B  "
            ]
          },
          "metadata": {
            "tags": []
          },
          "execution_count": 37
        }
      ]
    },
    {
      "metadata": {
        "id": "mieWor7ZTXvS",
        "colab_type": "text"
      },
      "cell_type": "markdown",
      "source": [
        "wt1 = pd.read_json(\"http://webtris.highwaysengland.co.uk/api/v1.0/sites\",orient='index')"
      ]
    }
  ]
}